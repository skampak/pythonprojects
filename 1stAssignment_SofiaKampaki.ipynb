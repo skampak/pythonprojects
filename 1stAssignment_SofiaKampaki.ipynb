{
 "cells": [
  {
   "cell_type": "markdown",
   "metadata": {},
   "source": [
    "# 1η άσκηση"
   ]
  },
  {
   "cell_type": "code",
   "execution_count": null,
   "metadata": {},
   "outputs": [],
   "source": [
    "a=\"Mitsos\"\n",
    "b=45\n",
    "def f(a,b):\n",
    "    print ('To onoma mou einai {} kai h hlikia mou einai {}.'.format(a,b))\n",
    "f(a,b)"
   ]
  },
  {
   "cell_type": "markdown",
   "metadata": {},
   "source": [
    "# 2η άσκηση"
   ]
  },
  {
   "cell_type": "code",
   "execution_count": null,
   "metadata": {},
   "outputs": [],
   "source": [
    "a=10\n",
    "b=3\n",
    "def f(a,b):\n",
    "    if a%b==0:\n",
    "        print ('Number {} divides perfect the number {}'.format(b,a))\n",
    "    else:\n",
    "        print ('Number {} does not divide perfect the number {}'.format(b,a))\n",
    "f(a,b)"
   ]
  },
  {
   "cell_type": "markdown",
   "metadata": {},
   "source": [
    "# 3η άσκηση"
   ]
  },
  {
   "cell_type": "code",
   "execution_count": null,
   "metadata": {},
   "outputs": [],
   "source": [
    "a=3\n",
    "b=2\n",
    "c=7\n",
    "\n",
    "def f(a,b,c):\n",
    "    nmin = a\n",
    "    if b<nmin:\n",
    "        nmin = b\n",
    "    if c<nmin:\n",
    "        nmin = c\n",
    "    print(nmin)\n",
    "    \n",
    "f(a,b,c)\n"
   ]
  },
  {
   "cell_type": "markdown",
   "metadata": {},
   "source": [
    "# 4η άσκηση"
   ]
  },
  {
   "cell_type": "code",
   "execution_count": null,
   "metadata": {},
   "outputs": [],
   "source": [
    "a=7\n",
    "b=5\n",
    "c=10\n",
    "def g(a,b,c):   \n",
    "    numbers=[a,b,c]\n",
    "    numbers.sort()\n",
    "    print(numbers[1])\n",
    "g(a,b,c)"
   ]
  },
  {
   "cell_type": "markdown",
   "metadata": {},
   "source": [
    "# 5η άσκηση"
   ]
  },
  {
   "cell_type": "code",
   "execution_count": null,
   "metadata": {},
   "outputs": [],
   "source": [
    "def f(a,b):\n",
    "    print((a+b)/2)\n",
    "f(a,b)"
   ]
  },
  {
   "cell_type": "markdown",
   "metadata": {},
   "source": [
    "# 6η άσκηση"
   ]
  },
  {
   "cell_type": "code",
   "execution_count": null,
   "metadata": {},
   "outputs": [],
   "source": [
    "\n",
    "def f(l):\n",
    "    s=sum(l)\n",
    "    mo = s/len(l)\n",
    "    print(mo)\n",
    "f(numbers)\n",
    "\n",
    "\n",
    "for  i in a:\n",
    "    num = list(i.strip())\n",
    "    l = len(num)\n",
    "    newli.append(l)\n",
    "mo = sum(nl)/len(a)   "
   ]
  },
  {
   "cell_type": "markdown",
   "metadata": {},
   "source": [
    "# 7η άσκηση"
   ]
  },
  {
   "cell_type": "code",
   "execution_count": null,
   "metadata": {},
   "outputs": [],
   "source": [
    "a = ['mitsos', 'anna', 'epameinonas']\n",
    "newli=[]\n",
    "for  i in a:\n",
    "    num = list(i.strip())\n",
    "    l = len(num)\n",
    "    newli.append(l)\n",
    "mo = sum(newli)/len(a)\n",
    "print(mo)"
   ]
  },
  {
   "cell_type": "markdown",
   "metadata": {},
   "source": [
    "# 8η άσκηση"
   ]
  },
  {
   "cell_type": "code",
   "execution_count": null,
   "metadata": {},
   "outputs": [],
   "source": [
    "islands = [\n",
    "    \"Astypalaia\",\n",
    "    \"Kalymnos\",\n",
    "    \"Karpathos\",\n",
    "    \"Kasos\",\n",
    "    \"Kastellorizo\",\n",
    "    \"Kos\",\n",
    "    \"Leros\",\n",
    "    \"Nisyros\",\n",
    "    \"Patmos\",\n",
    "    \"Rhodos\",\n",
    "    \"Symi\",\n",
    "    \"Tilos\",\n",
    "    \"Ios\",]\n",
    "fon = (\"a\",\"e\",\"i\",\"o\",\"y\",\"h\",\"u\")\n",
    "counter = 0\n",
    "for elem in islands:\n",
    "    counter += (0,1)[elem.lower().startswith(fon)]\n",
    "print(counter)\n"
   ]
  },
  {
   "cell_type": "markdown",
   "metadata": {},
   "source": [
    "# 9η άσκηση"
   ]
  },
  {
   "cell_type": "code",
   "execution_count": null,
   "metadata": {},
   "outputs": [],
   "source": [
    "for elem in islands:\n",
    "    tmp=0\n",
    "    for y in fon:\n",
    "        tmp+=elem.count(y)\n",
    "    if tmp==1:\n",
    "        print(elem)\n",
    "        "
   ]
  },
  {
   "cell_type": "markdown",
   "metadata": {},
   "source": [
    "# 10η άσκηση"
   ]
  },
  {
   "cell_type": "code",
   "execution_count": null,
   "metadata": {},
   "outputs": [],
   "source": [
    "[x for x in islands if x.__len__()==5]"
   ]
  },
  {
   "cell_type": "markdown",
   "metadata": {},
   "source": [
    "# 11η άσκηση"
   ]
  },
  {
   "cell_type": "code",
   "execution_count": null,
   "metadata": {},
   "outputs": [],
   "source": [
    "f = lambda x : sum(map(int, str(x)))\n",
    "f(542)"
   ]
  },
  {
   "cell_type": "markdown",
   "metadata": {},
   "source": [
    "# 12η άσκηση"
   ]
  },
  {
   "cell_type": "code",
   "execution_count": null,
   "metadata": {},
   "outputs": [],
   "source": [
    "def f(a,b):\n",
    "    a1=list(a)\n",
    "    b1=list(b)\n",
    "    return (set(a1).issubset(b1))\n"
   ]
  },
  {
   "cell_type": "markdown",
   "metadata": {},
   "source": [
    "# 13η άσκηση"
   ]
  },
  {
   "cell_type": "code",
   "execution_count": null,
   "metadata": {},
   "outputs": [],
   "source": [
    "import math\n",
    "p_1 = [4,5]\n",
    "p_2 = [-2,7]\n",
    "def euclideanD(p_1, p_2):\n",
    "    \n",
    "    ed = [(x - y)**2 for x, y in zip(p_1, p_2)]\n",
    "    ed = math.sqrt(sum(ed))\n",
    "    return ed\n",
    "euclideanD(p_1,p_2)"
   ]
  },
  {
   "cell_type": "markdown",
   "metadata": {},
   "source": [
    "# 14η άσκηση"
   ]
  },
  {
   "cell_type": "code",
   "execution_count": null,
   "metadata": {},
   "outputs": [],
   "source": [
    "def f(a):\n",
    "    if a==0 or a==1:\n",
    "        return 1\n",
    "    else:\n",
    "        return a*f(a-1)\n"
   ]
  },
  {
   "cell_type": "markdown",
   "metadata": {},
   "source": [
    "# 15η άσκηση"
   ]
  },
  {
   "cell_type": "code",
   "execution_count": null,
   "metadata": {},
   "outputs": [],
   "source": [
    "pososto = lambda a,b : (b*a)/100\n",
    "pososto(30,400)"
   ]
  },
  {
   "cell_type": "markdown",
   "metadata": {},
   "source": [
    "# 16η άσκηση"
   ]
  },
  {
   "cell_type": "code",
   "execution_count": null,
   "metadata": {},
   "outputs": [],
   "source": [
    "def isMunchausen(a):\n",
    "    a2=map(int,str(a))\n",
    "    s = sum([(x**x) for x in a2])\n",
    "    if s==a:\n",
    "        return True\n",
    "      \n",
    "for i in range(1,1000000):\n",
    "    if isMunchausen(i):\n",
    "        print(i)"
   ]
  },
  {
   "cell_type": "markdown",
   "metadata": {},
   "source": [
    "# 17η άσκηση"
   ]
  },
  {
   "cell_type": "code",
   "execution_count": null,
   "metadata": {},
   "outputs": [],
   "source": [
    "for a in range(1, 50000):\n",
    "    a_s = str(a)\n",
    "    sum_fact = 0\n",
    "    for x in a_s:\n",
    "        x_i = int(x)\n",
    "        fact = 1\n",
    "        for y in range(1, x_i+1):\n",
    "            fact = fact*y\n",
    "        sum_fact = sum_fact + fact\n",
    "    if sum_fact == a:\n",
    "        print(a)"
   ]
  },
  {
   "cell_type": "markdown",
   "metadata": {},
   "source": [
    "# 18η άσκηση\n"
   ]
  },
  {
   "cell_type": "code",
   "execution_count": null,
   "metadata": {},
   "outputs": [],
   "source": [
    "def disekto(a):\n",
    "    if a%4==0:\n",
    "        if a%100==0:\n",
    "            if a%400==0:\n",
    "                return True\n",
    "            return False\n",
    "        return True\n",
    "    else:\n",
    "        return False\n",
    "\n"
   ]
  },
  {
   "cell_type": "markdown",
   "metadata": {},
   "source": [
    "# 19η άσκηση"
   ]
  },
  {
   "cell_type": "code",
   "execution_count": null,
   "metadata": {
    "scrolled": true
   },
   "outputs": [],
   "source": [
    "for k in range(1, 10000):\n",
    "    astr=str(k**2)\n",
    "    if len(astr)>=2:\n",
    "        l=int(len(astr)/2)        \n",
    "        ol=int(astr[:l])\n",
    "        tl=int(astr[l:])\n",
    "    else:\n",
    "        continue\n",
    "    if float(ol)+float(tl) == k:\n",
    "        print(k)\n"
   ]
  },
  {
   "cell_type": "markdown",
   "metadata": {},
   "source": [
    "# 20η άσκηση"
   ]
  },
  {
   "cell_type": "code",
   "execution_count": null,
   "metadata": {},
   "outputs": [],
   "source": [
    "def happy(a):\n",
    "    while a>=10:\n",
    "        a2=list(map(int,str(a)))\n",
    "        a=sum([(x**2) for x in a2])\n",
    "    if a==1:\n",
    "        return True\n",
    "        \n",
    "for i in range(1,10000):\n",
    "    if happy(i):\n",
    "        print(i)"
   ]
  }
 ],
 "metadata": {
  "kernelspec": {
   "display_name": "Python 3",
   "language": "python",
   "name": "python3"
  },
  "language_info": {
   "codemirror_mode": {
    "name": "ipython",
    "version": 3
   },
   "file_extension": ".py",
   "mimetype": "text/x-python",
   "name": "python",
   "nbconvert_exporter": "python",
   "pygments_lexer": "ipython3",
   "version": "3.7.0"
  }
 },
 "nbformat": 4,
 "nbformat_minor": 2
}
