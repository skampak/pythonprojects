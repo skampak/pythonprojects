{
 "cells": [
  {
   "cell_type": "markdown",
   "metadata": {},
   "source": [
    "# 1η άσκηση"
   ]
  },
  {
   "cell_type": "code",
   "execution_count": null,
   "metadata": {},
   "outputs": [],
   "source": [
    "def isprimenum(a):\n",
    "    if a<2:\n",
    "        return False\n",
    "    else:\n",
    "        for b in range(2,a):\n",
    "            if a%b==0:\n",
    "                return False\n",
    "                break\n",
    "                \n",
    "        return True\n",
    "isprimenum(9)"
   ]
  },
  {
   "cell_type": "markdown",
   "metadata": {},
   "source": [
    "# 2η άσκηση"
   ]
  },
  {
   "cell_type": "code",
   "execution_count": null,
   "metadata": {},
   "outputs": [],
   "source": [
    "def listnumber(n):\n",
    "    c=0;\n",
    "    num=2;\n",
    "    listnumber=[];    \n",
    "    while c<=n:\n",
    "        if isprimenum(num):\n",
    "            listnumber.append(num);\n",
    "            c=c+1;\n",
    "        num=num+1;\n",
    "    return listnumber;\n",
    "\n",
    "lnum=listnumber(1001);\n",
    "lnum"
   ]
  },
  {
   "cell_type": "markdown",
   "metadata": {},
   "source": [
    "# 3η άσκηση"
   ]
  },
  {
   "cell_type": "code",
   "execution_count": null,
   "metadata": {},
   "outputs": [],
   "source": [
    "sum([sum([x]) for x in lnum if x%10==3])"
   ]
  },
  {
   "cell_type": "markdown",
   "metadata": {},
   "source": [
    "# 4η άσκηση"
   ]
  },
  {
   "cell_type": "code",
   "execution_count": null,
   "metadata": {},
   "outputs": [],
   "source": [
    "lnum2=listnumber(10001);\n",
    "def endingin(l,a,b,c):\n",
    "    print (\"Numbers ending in\" ,a, \"are:\",len([sum([x]) for x in l if x%10==a]),\n",
    "           \"\\nNumbers ending in\" ,b,  \"are:\",len([sum([x]) for x in l if x%10==b]),\n",
    "            \"\\nNumbers ending in\" ,c, \"are:\",len([sum([x]) for x in l if x%10==c]))                            \n",
    "\n",
    "endingin(lnum2,1,3,7)"
   ]
  },
  {
   "cell_type": "code",
   "execution_count": null,
   "metadata": {},
   "outputs": [],
   "source": [
    "def createdict(l):\n",
    "    a={};\n",
    "    for x in l:\n",
    "        x_s=str(x)\n",
    "        key=x_s[-2:]\n",
    "        if len(key)==1:\n",
    "            continue;\n",
    "        a[key]=0;\n",
    "    for x in l:\n",
    "        x_s=str(x)\n",
    "        key=x_s[-2:]        \n",
    "        if key in a.keys():\n",
    "            a[key]+=1;\n",
    "    return a;\n",
    "new=createdict(lnum2)\n",
    "new"
   ]
  },
  {
   "cell_type": "code",
   "execution_count": null,
   "metadata": {},
   "outputs": [],
   "source": [
    "a=1\n",
    "a2=str(a)\n",
    "len(a2[-2:])"
   ]
  },
  {
   "cell_type": "markdown",
   "metadata": {},
   "source": [
    "# 6η άσκηση"
   ]
  },
  {
   "cell_type": "code",
   "execution_count": null,
   "metadata": {},
   "outputs": [],
   "source": [
    "import numpy as np\n",
    "\n",
    "np.mean(list(new.values()))"
   ]
  },
  {
   "cell_type": "markdown",
   "metadata": {},
   "source": [
    "# 7η άσκηση"
   ]
  },
  {
   "cell_type": "code",
   "execution_count": null,
   "metadata": {},
   "outputs": [],
   "source": [
    "def findmaxkey(a):\n",
    "    tmp=max(list(a.values()));\n",
    "    for x in new:\n",
    "        if new[x]==tmp:\n",
    "            return x;\n",
    "mk=findmaxkey(new);\n",
    "mk"
   ]
  },
  {
   "cell_type": "markdown",
   "metadata": {},
   "source": [
    "# 8η άσκηση"
   ]
  },
  {
   "cell_type": "code",
   "execution_count": null,
   "metadata": {},
   "outputs": [],
   "source": [
    "def findprime():\n",
    "    cp=1;\n",
    "    sumc=0;\n",
    "    while sumc<=1000000:\n",
    "        if isprimenum(cp):\n",
    "            toret=cp;\n",
    "            sumc+=cp;\n",
    "        cp+=1;\n",
    "    return toret;"
   ]
  },
  {
   "cell_type": "markdown",
   "metadata": {},
   "source": [
    "# 9η άσκηση"
   ]
  },
  {
   "cell_type": "code",
   "execution_count": null,
   "metadata": {},
   "outputs": [],
   "source": [
    "import random\n",
    "l = [random.random() for x in range(1000)]\n",
    "def findsecondmax(a):\n",
    "    maxnum = None\n",
    "    secmaxnum = None\n",
    "    for n in l:\n",
    "        if not maxnum or n > maxnum:   \n",
    "            if maxnum:\n",
    "                secmaxnum = maxnum\n",
    "            maxnum = n\n",
    "    return secmaxnum;\n",
    "secondmax = findsecondmax(l)\n",
    "secondmax"
   ]
  },
  {
   "cell_type": "markdown",
   "metadata": {},
   "source": [
    "# 10η άσκηση"
   ]
  },
  {
   "cell_type": "code",
   "execution_count": null,
   "metadata": {},
   "outputs": [],
   "source": [
    "a = '''\n",
    "#CHROM  POS     ID      REF     ALT     QUAL\n",
    "chr19   617614  .       G       A       39.2648\n",
    "chr19   617804  .       G       A       0.309945\n",
    "chr19   617959  .       A       C       0.0608339\n",
    "chr19   618159  .       A       G       193.704\n",
    "chr19   618428  .       T       G       1.87498E-5\n",
    "chr19   618851  .       T       C       74.4613\n",
    "chr19   618854  .       G       A       74.4613\n",
    "chr19   618911  .       T       G       2.88308E-4\n",
    "chr19   619021  .       G       C       352.245\n",
    "chr19   619139  .       G       A       137.482\n",
    "chr19   619408  .       A       G       207.722\n",
    "chr19   619574  .       T       G       594.095\n",
    "chr19   619772  .       G       C       612.352\n",
    "chr19   619913  .       T       C       276.649\n",
    "chr19   620004  .       T       C       0.00524165\n",
    "chr19   620045  .       A       T       15.5734\n",
    "chr19   620201  .       A       C       5.61107E-5\n",
    "chr19   620210  .       A       C       1.63995E-5\n",
    "chr19   620214  .       T       C       3.42253E-5\n",
    "chr19   620228  .       A       C       8.62681E-4\n",
    "chr19   620299  .       C       A       6.06919\n",
    "chr19   620315  .       A       C       3.3417E-4\n",
    "chr19   620381  .       T       G       5.01393E-4\n",
    "chr19   620414  .       A       C       6.37073E-6\n",
    "chr19   620429  .       T       C       2.46975E-5\n",
    "chr19   620454  .       A       C       4.25049E-5\n",
    "chr19   620459  .       T       C       4.96425E-5\n",
    "chr19   620728  .       A       G       0.0198511\n",
    "chr19   620807  .       G       A       41.4442 \n",
    "'''\n",
    "\n",
    "findlines= lambda x: x.count('\\n')-1\n",
    "findlines(a)"
   ]
  },
  {
   "cell_type": "markdown",
   "metadata": {},
   "source": [
    "# 11η άσκηση"
   ]
  },
  {
   "cell_type": "code",
   "execution_count": null,
   "metadata": {},
   "outputs": [],
   "source": [
    "\n",
    "newa=a.replace(\"#CHROM  POS     ID      REF     ALT     QUAL\",\"\")\n",
    "\n",
    "b = {int(y[1]):y[-1] for y in [x.split() for x in newa.split('\\n') if x.strip()]}\n",
    "print (b)"
   ]
  }
 ],
 "metadata": {
  "kernelspec": {
   "display_name": "Python 3",
   "language": "python",
   "name": "python3"
  },
  "language_info": {
   "codemirror_mode": {
    "name": "ipython",
    "version": 3
   },
   "file_extension": ".py",
   "mimetype": "text/x-python",
   "name": "python",
   "nbconvert_exporter": "python",
   "pygments_lexer": "ipython3",
   "version": "3.7.0"
  }
 },
 "nbformat": 4,
 "nbformat_minor": 2
}
