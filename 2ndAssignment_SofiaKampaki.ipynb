{
 "cells": [
  {
   "cell_type": "markdown",
   "metadata": {},
   "source": [
    "# 1η άσκηση"
   ]
  },
  {
   "cell_type": "code",
   "execution_count": null,
   "metadata": {},
   "outputs": [],
   "source": [
    "def isprimenum(a):\n",
    "    if a<2:\n",
    "        return False\n",
    "    else:\n",
    "        for b in range(2,a):\n",
    "            if a%b==0:\n",
    "                return False\n",
    "                break\n",
    "                \n",
    "        return True\n",
    "isprimenum(9)"
   ]
  },
  {
   "cell_type": "markdown",
   "metadata": {},
   "source": [
    "# 2η άσκηση"
   ]
  },
  {
   "cell_type": "code",
   "execution_count": null,
   "metadata": {},
   "outputs": [],
   "source": [
    "def listnumber(n):\n",
    "    c=0;\n",
    "    num=2;\n",
    "    listnumber=[];    \n",
    "    while c<=n:\n",
    "        if isprimenum(num):\n",
    "            listnumber.append(num);\n",
    "            c=c+1;\n",
    "        num=num+1;\n",
    "    return listnumber;\n",
    "\n",
    "lnum=listnumber(1001);\n",
    "lnum"
   ]
  },
  {
   "cell_type": "markdown",
   "metadata": {},
   "source": [
    "# 3η άσκηση"
   ]
  },
  {
   "cell_type": "code",
   "execution_count": null,
   "metadata": {},
   "outputs": [],
   "source": [
    "sum([sum([x]) for x in lnum if x%10==3])"
   ]
  },
  {
   "cell_type": "markdown",
   "metadata": {},
   "source": [
    "# 4η άσκηση"
   ]
  },
  {
   "cell_type": "code",
   "execution_count": null,
   "metadata": {},
   "outputs": [],
   "source": [
    "lnum2=listnumber(10001);\n",
    "def endingin(l,a,b,c):\n",
    "    print (\"Numbers ending in\" ,a, \"are:\",len([sum([x]) for x in l if x%10==a]),\n",
    "           \"\\nNumbers ending in\" ,b,  \"are:\",len([sum([x]) for x in l if x%10==b]),\n",
    "            \"\\nNumbers ending in\" ,c, \"are:\",len([sum([x]) for x in l if x%10==c]))                            \n",
    "\n",
    "endingin(lnum2,1,3,7)"
   ]
  },
  {
   "cell_type": "code",
   "execution_count": null,
   "metadata": {},
   "outputs": [],
   "source": [
    "def createdict(l):\n",
    "    a={};\n",
    "    for x in l:\n",
    "        x_s=str(x)\n",
    "        key=x_s[-2:]\n",
    "        if len(key)==1:\n",
    "            continue;\n",
    "        a[key]=0;\n",
    "    for x in l:\n",
    "        x_s=str(x)\n",
    "        key=x_s[-2:]        \n",
    "        if key in a.keys():\n",
    "            a[key]+=1;\n",
    "    return a;\n",
    "new=createdict(lnum2)\n",
    "new"
   ]
  },
  {
   "cell_type": "code",
   "execution_count": null,
   "metadata": {},
   "outputs": [],
   "source": [
    "a=1\n",
    "a2=str(a)\n",
    "len(a2[-2:])"
   ]
  },
  {
   "cell_type": "markdown",
   "metadata": {},
   "source": [
    "# 6η άσκηση"
   ]
  },
  {
   "cell_type": "code",
   "execution_count": null,
   "metadata": {},
   "outputs": [],
   "source": [
    "import numpy as np\n",
    "\n",
    "np.mean(list(new.values()))"
   ]
  },
  {
   "cell_type": "markdown",
   "metadata": {},
   "source": [
    "# 7η άσκηση"
   ]
  },
  {
   "cell_type": "code",
   "execution_count": null,
   "metadata": {},
   "outputs": [],
   "source": [
    "def findmaxkey(a):\n",
    "    tmp=max(list(a.values()));\n",
    "    for x in new:\n",
    "        if new[x]==tmp:\n",
    "            return x;\n",
    "mk=findmaxkey(new);\n",
    "mk"
   ]
  },
  {
   "cell_type": "markdown",
   "metadata": {},
   "source": [
    "# 8η άσκηση"
   ]
  },
  {
   "cell_type": "code",
   "execution_count": null,
   "metadata": {},
   "outputs": [],
   "source": [
    "def findprime():\n",
    "    cp=1;\n",
    "    sumc=0;\n",
    "    while sumc<=1000000:\n",
    "        if isprimenum(cp):\n",
    "            toret=cp;\n",
    "            sumc+=cp;\n",
    "        cp+=1;\n",
    "    return toret;"
   ]
  },
  {
   "cell_type": "markdown",
   "metadata": {},
   "source": [
    "# 9η άσκηση"
   ]
  },
  {
   "cell_type": "code",
   "execution_count": null,
   "metadata": {},
   "outputs": [],
   "source": [
    "import random\n",
    "l = [random.random() for x in range(1000)]\n",
    "def findsecondmax(a):\n",
    "    maxnum = None\n",
    "    secmaxnum = None\n",
    "    for n in l:\n",
    "        if not maxnum or n > maxnum:   \n",
    "            if maxnum:\n",
    "                secmaxnum = maxnum\n",
    "            maxnum = n\n",
    "    return secmaxnum;\n",
    "secondmax = findsecondmax(l)\n",
    "secondmax"
   ]
  },
  {
   "cell_type": "markdown",
   "metadata": {},
   "source": [
    "# 10η άσκηση"
   ]
  },
  {
   "cell_type": "code",
   "execution_count": 2,
   "metadata": {},
   "outputs": [
    {
     "data": {
      "text/plain": [
       "30"
      ]
     },
     "execution_count": 2,
     "metadata": {},
     "output_type": "execute_result"
    }
   ],
   "source": [
    "a = '''\n",
    "#CHROM  POS     ID      REF     ALT     QUAL\n",
    "chr19   617614  .       G       A       39.2648\n",
    "chr19   617804  .       G       A       0.309945\n",
    "chr19   617959  .       A       C       0.0608339\n",
    "chr19   618159  .       A       G       193.704\n",
    "chr19   618428  .       T       G       1.87498E-5\n",
    "chr19   618851  .       T       C       74.4613\n",
    "chr19   618854  .       G       A       74.4613\n",
    "chr19   618911  .       T       G       2.88308E-4\n",
    "chr19   619021  .       G       C       352.245\n",
    "chr19   619139  .       G       A       137.482\n",
    "chr19   619408  .       A       G       207.722\n",
    "chr19   619574  .       T       G       594.095\n",
    "chr19   619772  .       G       C       612.352\n",
    "chr19   619913  .       T       C       276.649\n",
    "chr19   620004  .       T       C       0.00524165\n",
    "chr19   620045  .       A       T       15.5734\n",
    "chr19   620201  .       A       C       5.61107E-5\n",
    "chr19   620210  .       A       C       1.63995E-5\n",
    "chr19   620214  .       T       C       3.42253E-5\n",
    "chr19   620228  .       A       C       8.62681E-4\n",
    "chr19   620299  .       C       A       6.06919\n",
    "chr19   620315  .       A       C       3.3417E-4\n",
    "chr19   620381  .       T       G       5.01393E-4\n",
    "chr19   620414  .       A       C       6.37073E-6\n",
    "chr19   620429  .       T       C       2.46975E-5\n",
    "chr19   620454  .       A       C       4.25049E-5\n",
    "chr19   620459  .       T       C       4.96425E-5\n",
    "chr19   620728  .       A       G       0.0198511\n",
    "chr19   620807  .       G       A       41.4442 \n",
    "'''\n",
    "\n",
    "findlines= lambda x: x.count('\\n')-1\n",
    "findlines(a)"
   ]
  },
  {
   "cell_type": "markdown",
   "metadata": {},
   "source": [
    "# 11η άσκηση"
   ]
  },
  {
   "cell_type": "code",
   "execution_count": 3,
   "metadata": {},
   "outputs": [
    {
     "name": "stdout",
     "output_type": "stream",
     "text": [
      "{617614: '39.2648', 617804: '0.309945', 617959: '0.0608339', 618159: '193.704', 618428: '1.87498E-5', 618851: '74.4613', 618854: '74.4613', 618911: '2.88308E-4', 619021: '352.245', 619139: '137.482', 619408: '207.722', 619574: '594.095', 619772: '612.352', 619913: '276.649', 620004: '0.00524165', 620045: '15.5734', 620201: '5.61107E-5', 620210: '1.63995E-5', 620214: '3.42253E-5', 620228: '8.62681E-4', 620299: '6.06919', 620315: '3.3417E-4', 620381: '5.01393E-4', 620414: '6.37073E-6', 620429: '2.46975E-5', 620454: '4.25049E-5', 620459: '4.96425E-5', 620728: '0.0198511', 620807: '41.4442'}\n"
     ]
    }
   ],
   "source": [
    "\n",
    "newa=a.replace(\"#CHROM  POS     ID      REF     ALT     QUAL\",\"\")\n",
    "\n",
    "b = {int(y[1]):y[-1] for y in [x.split() for x in newa.split('\\n') if x.strip()]}\n",
    "print (b)"
   ]
  },
  {
   "cell_type": "markdown",
   "metadata": {},
   "source": [
    "# 12η άσκηση"
   ]
  },
  {
   "cell_type": "code",
   "execution_count": 4,
   "metadata": {},
   "outputs": [
    {
     "name": "stdout",
     "output_type": "stream",
     "text": [
      "{617614: {'REF': 'G', 'ALT': 'A'}, 617804: {'REF': 'G', 'ALT': 'A'}, 617959: {'REF': 'A', 'ALT': 'C'}, 618159: {'REF': 'A', 'ALT': 'G'}, 618428: {'REF': 'T', 'ALT': 'G'}, 618851: {'REF': 'T', 'ALT': 'C'}, 618854: {'REF': 'G', 'ALT': 'A'}, 618911: {'REF': 'T', 'ALT': 'G'}, 619021: {'REF': 'G', 'ALT': 'C'}, 619139: {'REF': 'G', 'ALT': 'A'}, 619408: {'REF': 'A', 'ALT': 'G'}, 619574: {'REF': 'T', 'ALT': 'G'}, 619772: {'REF': 'G', 'ALT': 'C'}, 619913: {'REF': 'T', 'ALT': 'C'}, 620004: {'REF': 'T', 'ALT': 'C'}, 620045: {'REF': 'A', 'ALT': 'T'}, 620201: {'REF': 'A', 'ALT': 'C'}, 620210: {'REF': 'A', 'ALT': 'C'}, 620214: {'REF': 'T', 'ALT': 'C'}, 620228: {'REF': 'A', 'ALT': 'C'}, 620299: {'REF': 'C', 'ALT': 'A'}, 620315: {'REF': 'A', 'ALT': 'C'}, 620381: {'REF': 'T', 'ALT': 'G'}, 620414: {'REF': 'A', 'ALT': 'C'}, 620429: {'REF': 'T', 'ALT': 'C'}, 620454: {'REF': 'A', 'ALT': 'C'}, 620459: {'REF': 'T', 'ALT': 'C'}, 620728: {'REF': 'A', 'ALT': 'G'}, 620807: {'REF': 'G', 'ALT': 'A'}}\n"
     ]
    }
   ],
   "source": [
    "c = {int(y[1]):{'REF':y[3],\"ALT\":y[4]} for y in [x.split() for x in newa.split('\\n') if x.strip()]}\n",
    "print(c)"
   ]
  },
  {
   "cell_type": "markdown",
   "metadata": {},
   "source": [
    "# 13η άσκηση"
   ]
  },
  {
   "cell_type": "code",
   "execution_count": 5,
   "metadata": {},
   "outputs": [
    {
     "data": {
      "text/plain": [
       "5"
      ]
     },
     "execution_count": 5,
     "metadata": {},
     "output_type": "execute_result"
    }
   ],
   "source": [
    "d=(list(c.values()))\n",
    "d.count({'REF': 'G', 'ALT': 'A'})"
   ]
  },
  {
   "cell_type": "markdown",
   "metadata": {},
   "source": [
    "# 14η άσκηση"
   ]
  },
  {
   "cell_type": "code",
   "execution_count": 6,
   "metadata": {},
   "outputs": [
    {
     "data": {
      "text/plain": [
       "{('G', 'A'): 5,\n",
       " ('A', 'C'): 7,\n",
       " ('A', 'G'): 3,\n",
       " ('T', 'G'): 4,\n",
       " ('T', 'C'): 6,\n",
       " ('G', 'C'): 2,\n",
       " ('A', 'T'): 1,\n",
       " ('C', 'A'): 1}"
      ]
     },
     "execution_count": 6,
     "metadata": {},
     "output_type": "execute_result"
    }
   ],
   "source": [
    "e={tuple(x.values()):d.count(x) for x in d}\n",
    "e"
   ]
  },
  {
   "cell_type": "markdown",
   "metadata": {},
   "source": [
    "# 15η άσκηση"
   ]
  },
  {
   "cell_type": "code",
   "execution_count": 8,
   "metadata": {},
   "outputs": [
    {
     "data": {
      "text/plain": [
       "{'G': {'A': 5, 'C': 6, 'G': 3, 'T': 1},\n",
       " 'A': {'A': 5, 'C': 6, 'G': 3, 'T': 1},\n",
       " 'T': {'A': 5, 'C': 6, 'G': 3, 'T': 1},\n",
       " 'C': {'A': 5, 'C': 6, 'G': 3, 'T': 1}}"
      ]
     },
     "execution_count": 8,
     "metadata": {},
     "output_type": "execute_result"
    }
   ],
   "source": [
    "#d\n",
    "#{x['REF']:{x['ALT']:d.count(x) for x in d} for x in d}\n",
    "{tuple(x.values())[0]:{tuple(x.values())[1]:d.count(x) for x in d} for x in d}"
   ]
  },
  {
   "cell_type": "markdown",
   "metadata": {},
   "source": [
    "# 16η άσκηση"
   ]
  },
  {
   "cell_type": "code",
   "execution_count": 7,
   "metadata": {},
   "outputs": [
    {
     "data": {
      "text/plain": [
       "(7, ('A', 'C'))"
      ]
     },
     "execution_count": 7,
     "metadata": {},
     "output_type": "execute_result"
    }
   ],
   "source": [
    "max([(v,k) for k,v in e.items()])"
   ]
  },
  {
   "cell_type": "markdown",
   "metadata": {},
   "source": [
    "# 17η άσκηση"
   ]
  },
  {
   "cell_type": "code",
   "execution_count": 26,
   "metadata": {},
   "outputs": [
    {
     "data": {
      "text/plain": [
       "[(('A', 'C'), 7),\n",
       " (('T', 'C'), 6),\n",
       " (('G', 'A'), 5),\n",
       " (('T', 'G'), 4),\n",
       " (('A', 'G'), 3),\n",
       " (('G', 'C'), 2),\n",
       " (('A', 'T'), 1),\n",
       " (('C', 'A'), 1)]"
      ]
     },
     "execution_count": 26,
     "metadata": {},
     "output_type": "execute_result"
    }
   ],
   "source": [
    "sorted(e.items(), key=lambda x: x[1],reverse=True)"
   ]
  },
  {
   "cell_type": "markdown",
   "metadata": {},
   "source": [
    "# 18η άσκηση"
   ]
  },
  {
   "cell_type": "code",
   "execution_count": 30,
   "metadata": {},
   "outputs": [
    {
     "data": {
      "text/plain": [
       "('619772', 612.352)"
      ]
     },
     "execution_count": 30,
     "metadata": {},
     "output_type": "execute_result"
    }
   ],
   "source": [
    "nb = {(y[1]):float(y[-1]) for y in [x.split() for x in newa.split('\\n') if x.strip()]}\n",
    "snb =sorted(nb.items(), key=lambda x: x[1],reverse=True)\n",
    "snb[0]"
   ]
  },
  {
   "cell_type": "markdown",
   "metadata": {},
   "source": [
    "# 19η άσκηση"
   ]
  },
  {
   "cell_type": "code",
   "execution_count": 32,
   "metadata": {},
   "outputs": [
    {
     "data": {
      "text/plain": [
       "[('619772', 612.352),\n",
       " ('619574', 594.095),\n",
       " ('619021', 352.245),\n",
       " ('619913', 276.649),\n",
       " ('619408', 207.722),\n",
       " ('618159', 193.704),\n",
       " ('619139', 137.482),\n",
       " ('618851', 74.4613),\n",
       " ('618854', 74.4613),\n",
       " ('620807', 41.4442),\n",
       " ('617614', 39.2648),\n",
       " ('620045', 15.5734),\n",
       " ('620299', 6.06919),\n",
       " ('617804', 0.309945),\n",
       " ('617959', 0.0608339),\n",
       " ('620728', 0.0198511),\n",
       " ('620004', 0.00524165),\n",
       " ('620228', 0.000862681),\n",
       " ('620381', 0.000501393),\n",
       " ('620315', 0.00033417),\n",
       " ('618911', 0.000288308),\n",
       " ('620201', 5.61107e-05),\n",
       " ('620459', 4.96425e-05),\n",
       " ('620454', 4.25049e-05),\n",
       " ('620214', 3.42253e-05),\n",
       " ('620429', 2.46975e-05),\n",
       " ('618428', 1.87498e-05),\n",
       " ('620210', 1.63995e-05),\n",
       " ('620414', 6.37073e-06)]"
      ]
     },
     "execution_count": 32,
     "metadata": {},
     "output_type": "execute_result"
    }
   ],
   "source": [
    "snb"
   ]
  },
  {
   "cell_type": "markdown",
   "metadata": {},
   "source": [
    "# 20η άσκηση"
   ]
  },
  {
   "cell_type": "code",
   "execution_count": 41,
   "metadata": {},
   "outputs": [
    {
     "name": "stdout",
     "output_type": "stream",
     "text": [
      "Minimun distance between 618854 and 618851\n"
     ]
    }
   ],
   "source": [
    "lpos =[int(y[1])for y in [x.split() for x in newa.split('\\n') if x.strip()]]\n",
    "nlpos=[j-i for i, j in zip(lpos[:-1], lpos[1:])]\n",
    "print(\"Minimun distance between\",lpos[nlpos.index(min(nlpos))+1], \"and\" ,lpos[nlpos.index(min(nlpos))])\n"
   ]
  }
 ],
 "metadata": {
  "kernelspec": {
   "display_name": "Python 3",
   "language": "python",
   "name": "python3"
  },
  "language_info": {
   "codemirror_mode": {
    "name": "ipython",
    "version": 3
   },
   "file_extension": ".py",
   "mimetype": "text/x-python",
   "name": "python",
   "nbconvert_exporter": "python",
   "pygments_lexer": "ipython3",
   "version": "3.7.0"
  }
 },
 "nbformat": 4,
 "nbformat_minor": 2
}
