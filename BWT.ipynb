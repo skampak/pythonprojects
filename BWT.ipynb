{
 "cells": [
  {
   "cell_type": "code",
   "execution_count": 2,
   "metadata": {},
   "outputs": [
    {
     "name": "stdout",
     "output_type": "stream",
     "text": [
      "IA IPKOKF AASM^$\n"
     ]
    }
   ],
   "source": [
    "def BurrowsWheelerTransformer(txt):\n",
    "    arr = []\n",
    "    i = 0\n",
    "    text=txt[:-1]+ ' ' +'$'\n",
    "    text = text.strip().upper()\n",
    "    while i<len(text):\n",
    "         arr.append(text[len(text)-1]+text[:len(text)-1])   #to teleitaio gramma paei prwto, to telutaio stoixeio einai to input\n",
    "         text = arr[i]\n",
    "         i = i+1\n",
    "    \n",
    "    arr = sorted(arr)   #sortarw to arr, ana dio to kanei, mexri to teleutaio na einai to \"mikrotero\"\n",
    "    \n",
    "    bwt = ''\n",
    "    b=''\n",
    "    for j in arr:\n",
    "        \n",
    "        small = j[len(j)-1:] #to gramma pou kollaei panta to teleutaio apo kathe stoixeio tou arr\n",
    "        bwt = bwt+small        \n",
    "    return bwt\n",
    "coded=BurrowsWheelerTransformer(\"^SOFIA KAMPAKI$\")  ##test string\n",
    "print(coded)"
   ]
  }
 ],
 "metadata": {
  "kernelspec": {
   "display_name": "Python 3",
   "language": "python",
   "name": "python3"
  },
  "language_info": {
   "codemirror_mode": {
    "name": "ipython",
    "version": 3
   },
   "file_extension": ".py",
   "mimetype": "text/x-python",
   "name": "python",
   "nbconvert_exporter": "python",
   "pygments_lexer": "ipython3",
   "version": "3.7.0"
  }
 },
 "nbformat": 4,
 "nbformat_minor": 2
}
