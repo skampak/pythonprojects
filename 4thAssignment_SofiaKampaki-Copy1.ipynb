{
 "cells": [
  {
   "cell_type": "markdown",
   "metadata": {},
   "source": [
    "# 1η άσκηση"
   ]
  },
  {
   "cell_type": "code",
   "execution_count": 2,
   "metadata": {},
   "outputs": [
    {
     "name": "stdout",
     "output_type": "stream",
     "text": [
      "The N number with the maximum sum is:\n",
      "\n"
     ]
    },
    {
     "data": {
      "text/plain": [
       "[(43, 31)]"
      ]
     },
     "execution_count": 2,
     "metadata": {},
     "output_type": "execute_result"
    }
   ],
   "source": [
    "l = [0, -1, 3, 3, 2, -2, -4, 4, 2, -1, -2, 3, 2, -1, 0, 3, 5, -3, 5, -3, \n",
    "-4, -4, 5, -5, -4, 2, 1, 1, -1, 1, 5, 5, 2, 0, 0, 0, -3, 2, 1, 5, 3, 2, \n",
    "2, -5, -2, -3, 1, -5, -4, 3, 3, -5, 2, 0, -2, -1, -1, 1, 2, 3, -3, 4, -2, \n",
    "-4, 0, 0, 0, -4, -3, -1, -1, -2, -4, -3, 0, 4, 1, 4, -4, 3, 5, 5, -1, -2, \n",
    "0, 3, -1, -2, 3, 5, 2, -3, -2, 1, 1, 5, -4, -5, -5, -3]\n",
    "\n",
    "lt=[]\n",
    "s=l[0]\n",
    "c=0\n",
    "for t in l:\n",
    "    s=s+t\n",
    "    c=c+1\n",
    "    lt.append((c,s))\n",
    "print(\"The N number with the maximum sum is:\\n\")\n",
    "[m for m in lt if m[1]==max([m[1] for m in lt])]\n"
   ]
  },
  {
   "cell_type": "markdown",
   "metadata": {},
   "source": [
    "# 2η άσκηση"
   ]
  },
  {
   "cell_type": "code",
   "execution_count": 4,
   "metadata": {},
   "outputs": [
    {
     "data": {
      "text/plain": [
       "(1691, 100)"
      ]
     },
     "execution_count": 4,
     "metadata": {},
     "output_type": "execute_result"
    }
   ],
   "source": [
    "s=0;\n",
    "lt2=[]\n",
    "c=0\n",
    "while s<100:\n",
    "    for le in l:\n",
    "        s=s+le\n",
    "        c=c+1\n",
    "        lt2.append((c,s))\n",
    "        if s==100:\n",
    "            break;\n",
    "        \n",
    "lt2[-1]\n",
    "\n",
    "    \n",
    "    "
   ]
  },
  {
   "cell_type": "markdown",
   "metadata": {},
   "source": [
    "# 3η άσκηση"
   ]
  },
  {
   "cell_type": "code",
   "execution_count": 6,
   "metadata": {},
   "outputs": [
    {
     "data": {
      "text/plain": [
       "(1253, 100)"
      ]
     },
     "execution_count": 6,
     "metadata": {},
     "output_type": "execute_result"
    }
   ],
   "source": [
    "s=0;\n",
    "lt3=[]\n",
    "c=1\n",
    "while s<100:\n",
    "    for le in l[1:]:\n",
    "        s=s+le\n",
    "        c=c+1\n",
    "        lt3.append((c,s))\n",
    "        if s==100:\n",
    "            break;           \n",
    "    for i in l[-2::-1]:   \n",
    "        s=s+i \n",
    "        c=c+1\n",
    "        lt3.append((c,s)) \n",
    "        if s==100:\n",
    "            break;\n",
    "\n",
    "lt3[-1]"
   ]
  },
  {
   "cell_type": "markdown",
   "metadata": {},
   "source": [
    "# 4η άσκηση"
   ]
  },
  {
   "cell_type": "code",
   "execution_count": 7,
   "metadata": {},
   "outputs": [
    {
     "name": "stdout",
     "output_type": "stream",
     "text": [
      "Maximun sum is 32\n",
      "Starting at 2\n",
      "Ending at 42\n"
     ]
    },
    {
     "data": {
      "text/plain": [
       "32"
      ]
     },
     "execution_count": 7,
     "metadata": {},
     "output_type": "execute_result"
    }
   ],
   "source": [
    "def maxsubseq(l):\n",
    "    s=end=start=0\n",
    "    max_so_far=-1\n",
    "    max_ending_here=0\n",
    "    for i in range(0,len(l)):        \n",
    "        max_ending_here += l[i] \n",
    "        if max_so_far < max_ending_here:            \n",
    "            max_so_far = max_ending_here \n",
    "            start = s \n",
    "            end = i   \n",
    "        if max_ending_here < 0: \n",
    "            max_ending_here = 0\n",
    "            s = i+1\n",
    "    print (\"Maximun sum is %d\"%(max_so_far)) \n",
    "    print (\"Starting at %d\"%(start)) \n",
    "    print (\"Ending at %d\"%(end)) \n",
    "maxsubseq(l)\n",
    "sum(l[2:43])"
   ]
  },
  {
   "cell_type": "markdown",
   "metadata": {},
   "source": [
    "# 5η άσκηση"
   ]
  },
  {
   "cell_type": "code",
   "execution_count": 8,
   "metadata": {},
   "outputs": [
    {
     "data": {
      "text/plain": [
       "[range(1, 3), range(57, 59), range(76, 80), range(99, 100)]"
      ]
     },
     "execution_count": 8,
     "metadata": {},
     "output_type": "execute_result"
    }
   ],
   "source": [
    "reads = [(27, 46),\n",
    " (19, 35),\n",
    " (12, 32),\n",
    " (38, 50),\n",
    " (88, 96),\n",
    " (17, 37),\n",
    " (80, 83),\n",
    " (85, 98),\n",
    " (29, 42),\n",
    " (25, 31),\n",
    " (12, 31),\n",
    " (16, 21),\n",
    " (4, 18),\n",
    " (36, 56),\n",
    " (47, 53),\n",
    " (37, 54),\n",
    " (83, 95),\n",
    " (64, 69),\n",
    " (12, 16),\n",
    " (59, 75)]\n",
    "sr=sorted(reads)\n",
    "minr=sr[0][0]\n",
    "maxr=sr[0][1]\n",
    "l=[]\n",
    "l.append(range(1,minr-1))\n",
    "\n",
    "for r in sr:\n",
    "    \n",
    "    if r[0]>maxr:        \n",
    "        l.append(range(maxr+1,r[0]))\n",
    "    if r[1]>maxr:\n",
    "        maxr=r[1]\n",
    "l.append(range(maxr+1,100))\n",
    "l"
   ]
  },
  {
   "cell_type": "markdown",
   "metadata": {},
   "source": [
    "\n",
    "\n",
    "\n",
    "\n",
    "\n",
    "# 6η άσκηση"
   ]
  },
  {
   "cell_type": "code",
   "execution_count": 103,
   "metadata": {},
   "outputs": [
    {
     "data": {
      "text/plain": [
       "1"
      ]
     },
     "execution_count": 103,
     "metadata": {},
     "output_type": "execute_result"
    }
   ],
   "source": [
    "\n",
    "from collections import Counter\n",
    "\n",
    "\n",
    "\n",
    "l2=[]\n",
    "for r in sr:\n",
    "    l2.extend(range(r[0],r[1]))\n",
    "cnt=Counter(l2)\n",
    "[r for r in sorted(cnt.items(), key = lambda x:x[1],reverse=True) if r[1]==max([v for v in cnt.values()])]\n"
   ]
  },
  {
   "cell_type": "markdown",
   "metadata": {},
   "source": [
    "# 7η άσκηση"
   ]
  },
  {
   "cell_type": "code",
   "execution_count": 111,
   "metadata": {},
   "outputs": [
    {
     "data": {
      "text/plain": [
       "2.48"
      ]
     },
     "execution_count": 111,
     "metadata": {},
     "output_type": "execute_result"
    }
   ],
   "source": [
    "{cnt[i]:0 for i in range(1,100) if i not in cnt.keys()}\n",
    "sum([v for v in cnt.values()])/100"
   ]
  },
  {
   "cell_type": "markdown",
   "metadata": {},
   "source": [
    "# 8η άσκηση"
   ]
  },
  {
   "cell_type": "code",
   "execution_count": null,
   "metadata": {},
   "outputs": [],
   "source": []
  }
 ],
 "metadata": {
  "kernelspec": {
   "display_name": "Python 3",
   "language": "python",
   "name": "python3"
  },
  "language_info": {
   "codemirror_mode": {
    "name": "ipython",
    "version": 3
   },
   "file_extension": ".py",
   "mimetype": "text/x-python",
   "name": "python",
   "nbconvert_exporter": "python",
   "pygments_lexer": "ipython3",
   "version": "3.7.0"
  }
 },
 "nbformat": 4,
 "nbformat_minor": 2
}
