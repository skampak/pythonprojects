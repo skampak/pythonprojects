{
 "cells": [
  {
   "cell_type": "markdown",
   "metadata": {},
   "source": [
    "# Άσκηση 1η"
   ]
  },
  {
   "cell_type": "code",
   "execution_count": null,
   "metadata": {},
   "outputs": [],
   "source": [
    "import numpy as np\n",
    "def numpyarray(i,j):\n",
    "    a=np.tile(np.array(np.arange(1,j+1,1)), (i, 1))\n",
    "    at=np.tile(np.array([np.arange(1,i+1,1)]).transpose(), (1, j))\n",
    "    afinal=np.power(a,at)\n",
    "    return afinal\n",
    "numpyarray(4,8)\n"
   ]
  },
  {
   "cell_type": "code",
   "execution_count": null,
   "metadata": {},
   "outputs": [],
   "source": [
    "def matrix(x,y):\n",
    "    a=np.fromfunction(lambda i, j: i**j, (x,y))\n",
    "    print(a)\n",
    "matrix(5,5)"
   ]
  },
  {
   "cell_type": "markdown",
   "metadata": {},
   "source": [
    "# Άσκηση 2η"
   ]
  },
  {
   "cell_type": "code",
   "execution_count": null,
   "metadata": {},
   "outputs": [],
   "source": [
    "mat = np.array([\n",
    "[1,2,3,4],\n",
    "[5,6,7,8],\n",
    "[9,0,1,2],\n",
    "[3,4,5,6],])\n",
    "def zermatrix(m):\n",
    "    m[1:-1,1:-1] =0\n",
    "    return m\n",
    "zermatrix(mat)\n",
    "mat"
   ]
  },
  {
   "cell_type": "markdown",
   "metadata": {},
   "source": [
    "# Άσκηση 3η"
   ]
  },
  {
   "cell_type": "code",
   "execution_count": null,
   "metadata": {},
   "outputs": [],
   "source": [
    "aspamat = np.array([\n",
    "  [4,3,5,2,6,9,7,8,1],\n",
    "  [6,8,2,5,7,1,4,9,3],\n",
    "  [1,9,7,8,3,4,5,6,2],\n",
    "  [8,2,6,1,9,5,3,4,7],\n",
    "  [3,7,4,6,8,2,9,1,5],\n",
    "  [9,5,1,7,4,3,6,2,8],\n",
    "  [5,1,9,3,2,6,8,7,4],\n",
    "  [2,4,8,9,5,7,1,3,6],\n",
    "  [7,6,3,4,1,8,2,5,9]])\n",
    "def issudoku(m):\n",
    "    if m.shape != (9,9):\n",
    "        return False\n",
    "    numrange = np.arange(1, 10)\n",
    "    \n",
    "    \n",
    "    if (not np.all(np.sort(m, axis=1) == numrange) or not np.all(np.sort(m.T, axis=1) == numrange)):  #checking if there are valid numbers and then i sort the numbers to match the range\n",
    "        return False\n",
    "    \n",
    "    check_blocks = aspamat.reshape(3, 3, 3, 3).transpose(0, 2, 1,3).reshape(9, 9)\n",
    "    if np.all(np.sort(check_blocks, axis=1) == numrange):\n",
    "        return True\n",
    "    else:\n",
    "        return False\n",
    "\n",
    "    \n",
    "issudoku(aspamat)"
   ]
  },
  {
   "cell_type": "markdown",
   "metadata": {},
   "source": [
    "# 4η άσκηση"
   ]
  },
  {
   "cell_type": "code",
   "execution_count": null,
   "metadata": {
    "scrolled": true
   },
   "outputs": [],
   "source": [
    "b = np.zeros(9)\n",
    "b[:5] = 1\n",
    "np.random.shuffle(b)\n",
    "b=b.reshape(3,3)\n",
    "i=0\n",
    "print(b)\n",
    "diag1=b.diagonal()\n",
    "diag2= np.diag(np.fliplr(b))\n",
    "if np.count_nonzero(diag1 == 1)==3 or np.count_nonzero(diag2 == 1)==3:\n",
    "    print(\"winner1\")\n",
    "if np.count_nonzero(diag1 == 0)==3 or np.count_nonzero(diag2 == 0)==3:\n",
    "    print(\"winner0\")   \n",
    "while i<3:\n",
    "    if (b[i,0] == 1 and b[i][1] == 1 and b[i][2] == 1) or (b[0][i] == 1 and b[1][i] == 1 and b[2][i] == 1):\n",
    "               print (\"WINNER 1\")\n",
    "\n",
    "    if (b[i,0] == 0 and b[i][1] == 0 and b[i][2] == 0) or (b[0][i] == 0 and b[1][i] == 0 and b[2][i] == 0):\n",
    "              print (\"WINNER 0\")\n",
    "    i=i+1\n",
    "    \n",
    "    \n",
    "ar = np.zeros(90000).reshape(10000,3,3)\n"
   ]
  },
  {
   "cell_type": "markdown",
   "metadata": {},
   "source": [
    "# 5η άσκηση"
   ]
  },
  {
   "cell_type": "code",
   "execution_count": null,
   "metadata": {},
   "outputs": [],
   "source": [
    "arr=np.array([[1, 2, 3],\n",
    "       [4, 5, 6]])\n",
    "arr=arr.reshape(2,3)\n",
    "arr=np.where(arr%2==0,arr-1,arr+1)\n",
    "print(arr)"
   ]
  },
  {
   "cell_type": "code",
   "execution_count": null,
   "metadata": {},
   "outputs": [],
   "source": [
    "pwd"
   ]
  },
  {
   "cell_type": "markdown",
   "metadata": {},
   "source": [
    "# 6η άσκηση"
   ]
  },
  {
   "cell_type": "code",
   "execution_count": null,
   "metadata": {},
   "outputs": [],
   "source": [
    "import gzip\n",
    "fn = 'GRCh38_latest_genomic.gff.gz'\n",
    "\n",
    "with gzip.open(fn, 'rt') as f1, open('genes.csv', 'w') as f2:\n",
    "    for l in f1:\n",
    "        if l[0] == '#':\n",
    "            continue\n",
    "            \n",
    "        ls = l.split()\n",
    "        if ls[1] != 'BestRefSeq' or ls[2] != 'gene':\n",
    "            continue\n",
    "        \n",
    "        data = {y[0]: y[1] for y in [x.split('=') for x in ls[8].split(';')]}\n",
    "                \n",
    "        start = ls[3]\n",
    "        end = ls[4]\n",
    "        name = data['Name']\n",
    "        \n",
    "        f2.write('\\t'.join([name, start, end])+'\\n')\n",
    "\n"
   ]
  },
  {
   "cell_type": "code",
   "execution_count": null,
   "metadata": {},
   "outputs": [],
   "source": [
    "import csv\n",
    "import pandas as pd\n",
    "import seaborn as sns\n",
    "import matplotlib.pyplot as plt\n",
    "import numpy as np\n",
    "\n",
    "with open(\"genes.csv\") as tsvfile:\n",
    "    tsvreader = csv.reader(tsvfile, delimiter=\"\\t\")\n",
    "    l=[]\n",
    "    s=[]\n",
    "    for line in tsvreader:\n",
    "        l.append(line[1:])\n",
    "    for i in l:\n",
    "        s.append(int(i[1])-int(i[0]))\n",
    "    sar=np.array(s).reshape(1,len(s))\n",
    "    sar2=sar[sar<200].reshape(-1,1)\n",
    "    fig, ax = plt.subplots(1, 2, sharey=False)\n",
    "    ax[0].hist(sar2, bins='auto',color='magenta')\n",
    "    sar=sar.T\n",
    "    ax[1].set_yscale('log')\n",
    "    ax[1].hist(sar,bins='auto')"
   ]
  },
  {
   "cell_type": "markdown",
   "metadata": {},
   "source": [
    "# 7η άσκηση"
   ]
  },
  {
   "cell_type": "code",
   "execution_count": null,
   "metadata": {},
   "outputs": [],
   "source": [
    "pip install requests"
   ]
  },
  {
   "cell_type": "code",
   "execution_count": null,
   "metadata": {},
   "outputs": [],
   "source": [
    "import requests\n",
    "\n",
    "def pubmed_results(year, search):\n",
    "    \n",
    "    url_p = 'https://www.ebi.ac.uk/europepmc/webservices/rest/search?query=(ABSTRACT:%22{search}%22)+AND+(FIRST_PDATE:[{year}-01-01+TO+{year}-12-31])&format=JSON'\n",
    "    url = url_p.format(\n",
    "        year = year,\n",
    "        search = search,\n",
    "    )\n",
    "    r = requests.get(url)\n",
    "    if not r.ok:\n",
    "        r.raise_for_status()\n",
    "        \n",
    "    j = r.json()\n",
    "    hit_count = int(j['hitCount'])\n",
    "    return hit_count"
   ]
  },
  {
   "cell_type": "code",
   "execution_count": null,
   "metadata": {},
   "outputs": [],
   "source": [
    "import seaborn as sns\n",
    "import matplotlib.pyplot as plt\n",
    "sns.set(color_codes=True)\n",
    "def pubf(y1,y2,w1,w2):\n",
    "    groups=y2-y1+1\n",
    "    respy=[]\n",
    "    respe=[]\n",
    "    for i in range(y1,y2+1):\n",
    "        respy.append(pubmed_results(i,w1))\n",
    "        respe.append(pubmed_results(i,w2))\n",
    "        \n",
    "    fig, ax = plt.subplots()\n",
    "    index = np.arange(groups)\n",
    "    bar_width = 0.5\n",
    "    opacity = 0.8\n",
    "    rects1 = plt.bar(index, respy, bar_width,alpha=opacity,color='b',label=w1)\n",
    "    rects2 = plt.bar(index + bar_width, respe, bar_width,alpha=opacity,color='orange',label=w2)\n",
    "    plt.xlabel('Year')\n",
    "    plt.ylabel('Hit Count')\n",
    "    plt.title('Pubmed Bar Plot')\n",
    "    #plt.xticks(index + bar_width, range(y1,y2+1))\n",
    "    plt.legend()\n",
    "    plt.tight_layout()\n",
    "    fig.set_size_inches(18.5, 10.5, forward=True)\n",
    "    plt.show()\n",
    "pubf(2000,2018,'Python','Perl')"
   ]
  },
  {
   "cell_type": "markdown",
   "metadata": {},
   "source": [
    "# 8η άσκηση"
   ]
  },
  {
   "cell_type": "code",
   "execution_count": null,
   "metadata": {},
   "outputs": [],
   "source": [
    "import seaborn as sns\n",
    "import matplotlib.pyplot as plt\n",
    "from numpy.polynomial.polynomial import polyfit\n",
    "sns.set(color_codes=True)\n",
    "tips = sns.load_dataset(\"tips\")\n",
    "def pubf2(y1,y2,w1,w2):\n",
    "    groups=y2-y1+1\n",
    "    respy=[]\n",
    "    respe=[]\n",
    "    for i in range(y1,y2+1):\n",
    "        respy.append(pubmed_results(i,w1))\n",
    "        respe.append(pubmed_results(i,w2))\n",
    "    data = (respy,respe)\n",
    "    colors = (\"blue\", \"red\")\n",
    "    groups = (\"python\", \"perl\") \n",
    "    fig, ax = plt.subplots()\n",
    "    for data, color, group in zip(data, colors, groups):\n",
    "        x = range(y1,y2+1)\n",
    "        y=data\n",
    "        ax.scatter(x, y, alpha=0.8, c=color, edgecolors='none', s=30, label=group)\n",
    " \n",
    "    plt.title('Matplot scatter plot')\n",
    "    plt.legend(loc=2)\n",
    "    b, m = polyfit(x, y, 1)\n",
    "    plt.plot(x, b + m * x, '-')\n",
    "    fig.set_size_inches(18.5, 10.5, forward=True)\n",
    "    plt.show()\n",
    "    \n",
    "pubf2(2000,2018,'Python','Perl')"
   ]
  },
  {
   "cell_type": "markdown",
   "metadata": {},
   "source": [
    "# 10η άσκηση"
   ]
  },
  {
   "cell_type": "code",
   "execution_count": null,
   "metadata": {},
   "outputs": [],
   "source": [
    "import pandas as pd\n",
    "df = pd.read_csv('protein-coding_gene.txt', sep='\\t')\n",
    "#check which genes are nan\n",
    "x=pd.isna(df[\"cosmic\"])\n",
    "               #all the values of the cosmic column, true where is NaN\n",
    "x2=x[x==True]       #getting only the rows where x==True\n",
    "print(len(x)-len(x2))            #how many genes are NaN\n",
    "#print(x)\n",
    "\n",
    "#second way\n",
    "sum([i for i in x if i==True])\n",
    "\n",
    "#percentage\n",
    "pososto=((len(x)-len(x2))/len(x))*100\n",
    "print(\"%.2f\" % pososto,\"%\")\n"
   ]
  },
  {
   "cell_type": "markdown",
   "metadata": {},
   "source": [
    "# 11η άσκηση"
   ]
  },
  {
   "cell_type": "code",
   "execution_count": null,
   "metadata": {},
   "outputs": [],
   "source": [
    "from collections import Counter\n",
    "import matplotlib.pyplot as plt\n",
    "import numpy as np\n",
    "\n",
    "gf=df[\"gene_family\"]\n",
    "unique_gf = df.gene_family.unique()\n",
    "#how many different values\n",
    "\n",
    "print(len(unique_gf))\n",
    "most_common_gf=gf.value_counts()\n",
    "nn=dict(most_common_gf)\n",
    "ten_nn = {k:nn[k] for k in list(nn)[:10]}\n",
    "newmcg=Counter(gf).most_common(11)\n",
    "fig, ax = plt.subplots()\n",
    "groups=[i[0] for i in newmcg]\n",
    "index = groups\n",
    "bar_width = 0.3\n",
    "opacity = 0.8\n",
    "for k,v in ten_nn.items():    \n",
    "    rects1 = plt.bar(k,v, bar_width,alpha=opacity,color=np.random.rand(3,))\n",
    "plt.xlabel('Family')\n",
    "plt.ylabel('Counts')\n",
    "plt.title('Gene Families')\n",
    "plt.xticks(rotation=90)\n",
    "plt.tight_layout()\n",
    "fig.set_size_inches(10, 25, forward=True)\n",
    "plt.show()"
   ]
  },
  {
   "cell_type": "markdown",
   "metadata": {},
   "source": [
    "# 12η άσκηση"
   ]
  },
  {
   "cell_type": "code",
   "execution_count": null,
   "metadata": {},
   "outputs": [],
   "source": [
    "dm=df[\"date_modified\"]\n",
    "convert_day=pd.to_datetime(df[\"date_modified\"])  ##edw vazei kai seconds pou einai ola 00:00:00 kai den mporw na\n",
    "                                                ##epeksergastw Timestamp type(p.x gia na vgalw ta seconds)\n",
    "\n",
    "ans=sorted(dm,reverse=True)[0]\n",
    "print(ans)\n",
    "\n",
    "\n",
    "df.loc[df[\"date_modified\"] == ans][\"name\"]"
   ]
  },
  {
   "cell_type": "markdown",
   "metadata": {},
   "source": [
    "# 13η άσκηση"
   ]
  },
  {
   "cell_type": "code",
   "execution_count": null,
   "metadata": {},
   "outputs": [],
   "source": [
    "l=[]\n",
    "for i in df['pubmed_id']:\n",
    "    if type(i)==float:       \n",
    "        l.append(\"None\")\n",
    "    else:\n",
    "        l.append(\"https://www.ncbi.nlm.nih.gov/pubmed/\"+max(i.split(\"|\")))\n",
    "df['pubmed_link']= l"
   ]
  },
  {
   "cell_type": "markdown",
   "metadata": {},
   "source": [
    "# 14η άσκηση"
   ]
  },
  {
   "cell_type": "code",
   "execution_count": null,
   "metadata": {},
   "outputs": [],
   "source": [
    "\n",
    "k=sorted(list(ten_nn.keys()))\n",
    "\n",
    "max_date=[]\n",
    "min_date=[]\n",
    "for i in k:\n",
    "    max_date.append(pd.to_datetime(max(df.loc[df[\"gene_family\"]==i][\"date_modified\"])))\n",
    "    min_date.append(pd.to_datetime(min(df.loc[df[\"gene_family\"]==i][\"date_modified\"])))\n",
    "\n",
    "new_dict = {'gene_family':k,\n",
    "'max': max_date,\n",
    "'min': min_date}\n",
    "\n",
    "new_df = pd.DataFrame(new_dict)\n",
    "print(new_df)"
   ]
  },
  {
   "cell_type": "markdown",
   "metadata": {},
   "source": [
    "# 15η άσκηση"
   ]
  },
  {
   "cell_type": "code",
   "execution_count": null,
   "metadata": {},
   "outputs": [],
   "source": [
    "import re\n",
    "\n",
    "#print(x2)\n",
    "arm=['p','q']*24\n",
    "arm.append('mitochondria')\n",
    "\n",
    "chromosom1=list(range(1,23))\n",
    "chromosom1=list(range(1,23))\n",
    "chromosome=list(zip(chromosom1,chromosom1))\n",
    "chromosome=[list(i) for i in chromosome]\n",
    "chrs=sum(chromosome,[])\n",
    "\n",
    "chrs.append('X')\n",
    "chrs.append('X')\n",
    "\n",
    "chrs.append('Y')\n",
    "chrs.append('Y')\n",
    "\n",
    "chrs.append('mitochondria')\n",
    "\n",
    "count_chrp=0\n",
    "genes=[]\n",
    "genesXY=[]\n",
    "cp=0\n",
    "cq=0\n",
    "cpX=0\n",
    "cpY=0\n",
    "cqX=0\n",
    "cqY=0\n",
    "for j in range(1,23):\n",
    "    for i in df['location']:\n",
    "        x2=re.match(r'[0-9]+',str(i))\n",
    "        if x2 is None:\n",
    "            continue\n",
    "        if j==int(x2.group()):\n",
    "            s=re.search(r'[pq]',i)\n",
    "            if str(s.group()) is 'p':\n",
    "                cp=cp+1\n",
    "            elif str(s.group()) is 'q':\n",
    "                cq=cq+1\n",
    "    if cp>0:\n",
    "        genes.append(cp)\n",
    "        cp=0\n",
    "    elif cp==0:\n",
    "        genes.append(0)\n",
    "    if cq>0:\n",
    "        genes.append(cq)\n",
    "        cq=0\n",
    "    elif cq==0:\n",
    "        genes.append(0)\n",
    "\n",
    "for i in df['location']:\n",
    "    s2=re.match(r'[XY]',str(i))\n",
    "    if s2 is None:\n",
    "            continue\n",
    "    if str(s2.group()) is 'X':\n",
    "            s=re.search(r'[pq]',i)\n",
    "            if str(s.group()) is 'p':\n",
    "                cpX=cpX+1\n",
    "            elif str(s.group()) is 'q':\n",
    "                cqX=cqX+1\n",
    "        \n",
    "    elif str(s2.group())=='Y':\n",
    "            s=re.search(r'[pq]',i)\n",
    "            if str(s.group()) is 'p':\n",
    "                cpY=cpY+1\n",
    "            elif str(s.group()) is 'q':\n",
    "                cqY=cqY+1\n",
    "genes.append(cpX)\n",
    "genes.append(cqX)\n",
    "genes.append(cpY)\n",
    "genes.append(cqY)\n",
    "genes.append(len(df['location'])-sum(genes)-1)    \n",
    "        \n",
    "new_dict2 = {'chromosome':chrs,\n",
    "'arm': arm,\n",
    "'Genes': genes}\n",
    "\n",
    "new_df2 = pd.DataFrame(new_dict2)\n",
    "new_df2.head"
   ]
  },
  {
   "cell_type": "markdown",
   "metadata": {},
   "source": [
    "# Άσκηση 16η"
   ]
  },
  {
   "cell_type": "code",
   "execution_count": null,
   "metadata": {},
   "outputs": [],
   "source": [
    "class Gene:\n",
    "    def __init__(self, name, start, end):\n",
    "        self.name = name\n",
    "        self.start = start\n",
    "        self.end=end\n",
    "    def get_name(self,):\n",
    "        return self.name\n",
    "    def __str__(self):\n",
    "        return 'Name:{}   Start:{}   End:{} '.format(self.name, self.start, self.end)\n",
    "    def __len__(self, ):\n",
    "        return self.end-self.start\n",
    "my_fabulous_gene = Gene(name='FAM138A', start=34611, end=36081)\n",
    "\n",
    "print ('The name of my favorite gene is:', my_fabulous_gene.get_name())\n",
    "print (my_fabulous_gene)\n"
   ]
  },
  {
   "cell_type": "markdown",
   "metadata": {},
   "source": [
    "# Άσκηση 17η"
   ]
  },
  {
   "cell_type": "code",
   "execution_count": null,
   "metadata": {},
   "outputs": [],
   "source": [
    "print (len(my_fabulous_gene))"
   ]
  },
  {
   "cell_type": "markdown",
   "metadata": {},
   "source": [
    "# Άσκηση 18η"
   ]
  },
  {
   "cell_type": "code",
   "execution_count": null,
   "metadata": {},
   "outputs": [],
   "source": [
    "import csv\n",
    "class Gene_List:\n",
    "    '''\n",
    "    Stores and manages a list of genes\n",
    "    '''\n",
    "    \n",
    "    def __init__(self, filename=None):\n",
    "        if filename is None:\n",
    "            download_GRCh38_genomic()\n",
    "            fn = 'GRCh38_latest_genomic.gff.gz'\n",
    "\n",
    "            with gzip.open(fn, 'rt') as f1, open('genes.csv', 'w') as f2:\n",
    "                for l in f1:\n",
    "                    if l[0] == '#':\n",
    "                        continue\n",
    "\n",
    "                    ls = l.split()\n",
    "                    if ls[1] != 'BestRefSeq' or ls[2] != 'gene':\n",
    "                        continue\n",
    "\n",
    "                    data = {y[0]: y[1] for y in [x.split('=') for x in ls[8].split(';')]}\n",
    "\n",
    "                    start = ls[3]\n",
    "                    end = ls[4]\n",
    "                    name = data['Name']\n",
    "\n",
    "                    f2.write('\\t'.join([name, start, end])+'\\n')\n",
    "                    d={}\n",
    "                f2.close()\n",
    "                with open('genes.csv','r') as f2:\n",
    "                    content = csv.reader(f2, delimiter=\"\\t\")\n",
    "                    for row in content:\n",
    "                        if not row[0] in d:\n",
    "                            d[row[0]]=[]\n",
    "                        for value in row[1:]:\n",
    "                            d[row[0]].append(value);\n",
    "                    self.data=d\n",
    "                    self._data_len = len(d)\n",
    "        else:\n",
    "            d={}\n",
    "            self.filename = filename        \n",
    "            with open(self.filename,\"r\") as csvf:\n",
    "                content = csv.reader(csvf, delimiter=\"\\t\")\n",
    "                for row in content:\n",
    "                    if not row[0] in d:\n",
    "                        d[row[0]]=[]\n",
    "                    for value in row[1:]:\n",
    "                        d[row[0]].append(value);\n",
    "                self.data=d\n",
    "                self._data_len = len(d)\n",
    "            \n",
    "       \n",
    "        \n",
    "    def __len__(self):\n",
    "            return self._data_len\n",
    "    \n",
    "    def get(self,name):\n",
    "        \n",
    "        gene=Gene(name=name, start=int(self.data[name][0]), end=int(self.data[name][1]))\n",
    "        return gene\n",
    "    \n",
    "    @staticmethod\n",
    "    def download_ftp_arguments():\n",
    "        return {'ip': 'ftp.ncbi.nlm.nih.gov',\n",
    " 'directory': '/refseq/H_sapiens/annotation/GRCh38_latest/refseq_identifiers',\n",
    " 'remote_filename': 'GRCh38_latest_genomic.gff.gz',\n",
    " 'local_filename': 'GRCh38_latest_genomic.gff.gz'}\n",
    "    \n",
    "        \n",
    "    \n",
    "        \n",
    "    \n",
    "my_fabulous_gene_list = Gene_List('genes.csv')\n",
    "print(len(my_fabulous_gene_list))\n",
    "\n",
    "my_gene = my_fabulous_gene_list.get('FAM138A')\n",
    "print (my_fabulous_gene_list.get('FAM138A'))\n",
    "len(my_gene)\n"
   ]
  },
  {
   "cell_type": "markdown",
   "metadata": {},
   "source": [
    "# Άσκηση 19η"
   ]
  },
  {
   "cell_type": "code",
   "execution_count": null,
   "metadata": {},
   "outputs": [],
   "source": [
    "import ftplib\n",
    "def download_ftp(ip, directory, remote_filename, local_filename):\n",
    "    \n",
    "    '''\n",
    "    Adapted from:\n",
    "    https://stackoverflow.com/questions/11573817/how-to-download-a-file-via-ftp-with-python-ftplib/11573992\n",
    "    '''\n",
    "    ftp = ftplib.FTP(ip)\n",
    "    ftp.login(\"\", \"\")\n",
    "    ftp.cwd(directory)\n",
    "    \n",
    "    with open(local_filename, 'wb') as f:\n",
    "        ftp.retrbinary('RETR {}'.format(remote_filename), f.write)\n",
    "    print (f'Downloading {remote_filename} completed!')\n",
    "    \n",
    "    \n",
    "\n",
    "def download_GRCh38_genomic(**kwargs):\n",
    "    download_ftp(\n",
    "        ip = \"ftp.ncbi.nlm.nih.gov\",\n",
    "        directory = \"/refseq/H_sapiens/annotation/GRCh38_latest/refseq_identifiers\",\n",
    "        remote_filename = \"GRCh38_latest_genomic.gff.gz\",\n",
    "        local_filename = \"GRCh38_latest_genomic.gff.gz\"\n",
    "\n",
    "    )\n",
    "    \n",
    "    \n",
    "    \n",
    "\n"
   ]
  },
  {
   "cell_type": "code",
   "execution_count": null,
   "metadata": {},
   "outputs": [],
   "source": [
    "import gzip\n",
    "my_fabulous_gene_list = Gene_List()\n"
   ]
  },
  {
   "cell_type": "code",
   "execution_count": null,
   "metadata": {},
   "outputs": [],
   "source": [
    "print (my_fabulous_gene_list.get('FAM138A'))"
   ]
  },
  {
   "cell_type": "code",
   "execution_count": null,
   "metadata": {},
   "outputs": [],
   "source": [
    "parameters = Gene_List.download_ftp_arguments()\n",
    "print (parameters)"
   ]
  },
  {
   "cell_type": "code",
   "execution_count": null,
   "metadata": {},
   "outputs": [],
   "source": [
    "def f(**kwargs):\n",
    "    print (kwargs['a'])\n",
    "    \n",
    "f(a=4)\n",
    "\n",
    "\n",
    "def download_GRCh38_genomic(**kwargs):\n",
    "    l=download_ftp(\n",
    "        ip = kwargs['ip'],\n",
    "        directory =  kwargs['directory'],\n",
    "        remote_filename = kwargs['remote_filename'],\n",
    "        local_filename = kwargs['local_filename']\n",
    "\n",
    "    )\n",
    "    \n",
    "    return l\n",
    "    "
   ]
  },
  {
   "cell_type": "code",
   "execution_count": null,
   "metadata": {},
   "outputs": [],
   "source": [
    "Gene_List.download_ftp_arguments()"
   ]
  },
  {
   "cell_type": "code",
   "execution_count": null,
   "metadata": {},
   "outputs": [],
   "source": [
    "download_GRCh38_genomic(**Gene_List.download_ftp_arguments())"
   ]
  }
 ],
 "metadata": {
  "kernelspec": {
   "display_name": "Python 3",
   "language": "python",
   "name": "python3"
  },
  "language_info": {
   "codemirror_mode": {
    "name": "ipython",
    "version": 3
   },
   "file_extension": ".py",
   "mimetype": "text/x-python",
   "name": "python",
   "nbconvert_exporter": "python",
   "pygments_lexer": "ipython3",
   "version": "3.7.0"
  }
 },
 "nbformat": 4,
 "nbformat_minor": 2
}
